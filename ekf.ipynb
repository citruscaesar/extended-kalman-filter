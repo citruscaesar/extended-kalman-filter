{
 "cells": [
  {
   "cell_type": "code",
   "execution_count": 1,
   "metadata": {},
   "outputs": [],
   "source": [
    "import numpy as np\n",
    "import matplotlib.pyplot as plt"
   ]
  },
  {
   "cell_type": "code",
   "execution_count": 9,
   "metadata": {},
   "outputs": [],
   "source": [
    "class KF:\n",
    "    def __init__(self, init_x:float, init_v:float, acceleration_var: float):\n",
    "        #init state variables\n",
    "        #mean\n",
    "        self.x = np.array([init_x, init_v])\n",
    "\n",
    "        #uncertainty covariance matrix\n",
    "        #np.eye returns identity matrix\n",
    "        self.P = np.eye(2)\n",
    "        self.acceleration_var = acceleration_var\n",
    "\n",
    "    def predict(self, dt:float):\n",
    "        #state transistion matrix\n",
    "        F = np.array([[1, dt],\n",
    "                      [0, 1]]) \n",
    "        new_x = F.dot(self.x)\n",
    "\n",
    "        G = np.array([.5 * dt**2, dt]).reshape((2, 1))\n",
    "        new_P = F.dot(self.P).dot(F.T) + G.dot(G.T) * self.acceleration_var\n",
    "\n",
    "        self.P = new_P\n",
    "        self.x = new_x\n",
    "\n",
    "    def update(self, measurement_value:float, measurement_var:float):\n",
    "        pass\n",
    "        \n",
    "\n",
    "    @property\n",
    "    def pos(self):\n",
    "        return self.x[0]\n",
    "    \n",
    "    @property\n",
    "    def vel(self):\n",
    "        return self.x[1]\n"
   ]
  },
  {
   "cell_type": "code",
   "execution_count": 25,
   "metadata": {},
   "outputs": [
    {
     "data": {
      "text/plain": [
       "[<matplotlib.lines.Line2D at 0x7fccbb309730>]"
      ]
     },
     "execution_count": 25,
     "metadata": {},
     "output_type": "execute_result"
    },
    {
     "data": {
      "image/png": "[encoded data removed]",
      "text/plain": [
       "<Figure size 432x288 with 2 Axes>"
      ]
     },
     "metadata": {
      "needs_background": "light"
     },
     "output_type": "display_data"
    }
   ],
   "source": [
    "plt.ion()\n",
    "plt.figure()\n",
    "\n",
    "kf = KF(0.0, 1.0, .1)\n",
    "dt = 0.1\n",
    "num_epochs = 1000\n",
    "\n",
    "mus = list()\n",
    "covs = list()\n",
    "\n",
    "for epoch in range(num_epochs):\n",
    "    covs.append(kf.P)\n",
    "    mus.append(kf.x)\n",
    "    kf.predict(dt)\n",
    "\n",
    "plt.subplot(2, 1, 1)\n",
    "plt.title('Position')\n",
    "plt.plot([mu[0] for mu in mus], 'r')\n",
    "plt.plot([mu[0] - 2*np.sqrt(cov[0,0]) for mu, cov in zip(mus, covs)], 'r--')\n",
    "plt.plot([mu[0] + 2*np.sqrt(cov[0,0]) for mu, cov in zip(mus, covs)], 'r--')\n",
    "\n",
    "plt.subplot(2, 1, 2)\n",
    "plt.title('Velocity')\n",
    "plt.plot([mu[1] for mu in mus], 'r')\n",
    "plt.plot([mu[1] - 2*np.sqrt(cov[1,1]) for mu, cov in zip(mus, covs)], 'r--')\n",
    "plt.plot([mu[1] + 2*np.sqrt(cov[1,1]) for mu, cov in zip(mus, covs)], 'r--')\n"
   ]
  },
  {
   "cell_type": "code",
   "execution_count": null,
   "metadata": {},
   "outputs": [],
   "source": []
  }
 ],
 "metadata": {
  "interpreter": {
   "hash": "02bdaabec7770af1268dcd5812df2ea7fd4335aefe2c8ae2ea1f433fd91d2d10"
  },
  "kernelspec": {
   "display_name": "Python 3.9.9 64-bit ('odom': conda)",
   "language": "python",
   "name": "python3"
  },
  "language_info": {
   "codemirror_mode": {
    "name": "ipython",
    "version": 3
   },
   "file_extension": ".py",
   "mimetype": "text/x-python",
   "name": "python",
   "nbconvert_exporter": "python",
   "pygments_lexer": "ipython3",
   "version": "3.9.9"
  },
  "orig_nbformat": 4
 },
 "nbformat": 4,
 "nbformat_minor": 2
}
